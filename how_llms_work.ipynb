{
  "cells": [
    {
      "cell_type": "markdown",
      "metadata": {
        "id": "g6rVSNYtJH7E"
      },
      "source": [
        "# How LLMs Work\n",
        "This notebook will provide an overview of how language models (LLMs) work. We'll cover the key components and processes involved in generating text, including encoding, decoding, and attention mechanisms.\n",
        "\n",
        "Innanzitutto partiamo dalle reti neurali classiche, usate principalmente per classificazione e regressione.\n",
        "\n",
        "![classificazione](https://raw.githubusercontent.com/maeste/iis_ai/refs/heads/main/images/1.png)\n",
        "[image credit: https://www.youtube.com/watch?v=RDMwSAZwn8I]\n",
        "\n",
        "![regressione](https://raw.githubusercontent.com/maeste/iis_ai/refs/heads/main/images/2.png)\n",
        "\n",
        "\n",
        "Ma ora vediamo cosa è di fatto la regressione con un semplice esempio a 2 dimensioni"
      ]
    },
    {
      "cell_type": "markdown",
      "source": [
        "# New Section"
      ],
      "metadata": {
        "id": "11QPWic4qShg"
      }
    },
    {
      "cell_type": "code",
      "execution_count": null,
      "metadata": {
        "id": "nTPKgyxBJH7G"
      },
      "outputs": [],
      "source": [
        "!pip uninstall -y numpy matplotlib\n",
        "!pip install numpy\n",
        "!pip install matplotlib --force-reinstall\n",
        "!pip install  ipywidgets scikit-learn\n"
      ]
    },
    {
      "cell_type": "code",
      "execution_count": null,
      "metadata": {
        "id": "Tk7W2EyWJH7I"
      },
      "outputs": [],
      "source": [
        "import numpy as np\n",
        "import matplotlib.pyplot as plt\n",
        "import ipywidgets as widgets\n",
        "from IPython.display import display\n",
        "\n",
        "# Set random seed for reproducibility\n",
        "np.random.seed(42)\n",
        "\n",
        "# Generate data points once (and keep them fixed)\n",
        "num_points = 40\n",
        "x_data = np.random.uniform(0.2, 10, num_points)\n",
        "# Generate y values with some default slope, intercept and noise\n",
        "default_slope = 1.0\n",
        "default_intercept = 0.5\n",
        "noise = 0.7\n",
        "y_data = default_slope * x_data + default_intercept + np.random.normal(0, noise, num_points)\n",
        "\n",
        "# Create a function to generate the plot with fixed data points\n",
        "def create_regression_plot(slope=1.0, intercept=0.5):\n",
        "    \"\"\"\n",
        "    Create a linear regression visualization with customizable line parameters\n",
        "    but fixed data points.\n",
        "\n",
        "    Parameters:\n",
        "    -----------\n",
        "    slope : float\n",
        "        The slope of the line (default: 1.0)\n",
        "    intercept : float\n",
        "        The y-intercept of the line (default: 0.5)\n",
        "    \"\"\"\n",
        "    # Create figure with black background\n",
        "    plt.figure(figsize=(12, 8), facecolor='black')\n",
        "    ax = plt.subplot(111)\n",
        "    ax.set_facecolor('black')\n",
        "\n",
        "    # Plot the fixed data points\n",
        "    ax.scatter(x_data, y_data, color='#FFD700', s=50, alpha=0.8)\n",
        "\n",
        "    # Create x values for the line\n",
        "    line_x = np.array([0, 12])\n",
        "\n",
        "    # Calculate y values for the line using the current slope and intercept\n",
        "    line_y = slope * line_x + intercept\n",
        "\n",
        "    # Plot the line\n",
        "    ax.plot(line_x, line_y, color='#90EE90', linewidth=2)\n",
        "\n",
        "    # Set axis colors to white\n",
        "    ax.spines['bottom'].set_color('white')\n",
        "    ax.spines['left'].set_color('white')\n",
        "    ax.spines['top'].set_visible(False)\n",
        "    ax.spines['right'].set_visible(False)\n",
        "\n",
        "    # Set tick colors to white\n",
        "    ax.tick_params(axis='x', colors='white', which='both')\n",
        "    ax.tick_params(axis='y', colors='white', which='both')\n",
        "\n",
        "    # Set axis labels with larger font\n",
        "    ax.set_xlabel('Square footage', color='white', fontsize=20)\n",
        "    ax.set_ylabel('Output', color='white', fontsize=20)\n",
        "\n",
        "    # Set title\n",
        "    ax.set_title('Linear Regression', color='white', fontsize=30)\n",
        "\n",
        "    # Set axis limits\n",
        "    ax.set_xlim(0, 12)\n",
        "    ax.set_ylim(0, 13)\n",
        "\n",
        "    # Show gridlines\n",
        "    ax.grid(True, alpha=0.2, color='white')\n",
        "\n",
        "    plt.tight_layout()\n",
        "    plt.show()\n",
        "\n",
        "    # Print the line equation\n",
        "    print(f\"Line equation: y = {slope:.2f}x + {intercept:.2f}\")\n",
        "\n",
        "# Create interactive widgets\n",
        "slope_slider = widgets.FloatSlider(\n",
        "    value=1.0,\n",
        "    min=0.1,\n",
        "    max=3.0,\n",
        "    step=0.1,\n",
        "    description='Slope:',\n",
        "    continuous_update=False\n",
        ")\n",
        "\n",
        "intercept_slider = widgets.FloatSlider(\n",
        "    value=0.5,\n",
        "    min=-2.0,\n",
        "    max=5.0,\n",
        "    step=0.1,\n",
        "    description='Intercept:',\n",
        "    continuous_update=False\n",
        ")\n",
        "\n",
        "# Create interactive output\n",
        "interactive_plot = widgets.interactive_output(\n",
        "    create_regression_plot,\n",
        "    {'slope': slope_slider, 'intercept': intercept_slider}\n",
        ")\n",
        "\n",
        "# Display the widgets and plot\n",
        "controls = widgets.VBox([slope_slider, intercept_slider])\n",
        "output = widgets.VBox([interactive_plot])\n",
        "display(widgets.HBox([controls, output]))\n"
      ]
    },
    {
      "cell_type": "markdown",
      "source": [
        "# Dal Neurone artificiale all'autoencoder\n",
        "\n",
        "![Neurone artificiale](https://raw.githubusercontent.com/maeste/iis_ai/refs/heads/main/images/3.png)\n",
        "\n",
        "\n",
        "![Deep Learning](https://raw.githubusercontent.com/maeste/iis_ai/refs/heads/main/images/4.png)\n",
        "\n",
        "![Autoencoder](https://raw.githubusercontent.com/maeste/iis_ai/refs/heads/main/images/5.png)\n",
        "\n",
        "![Self Encoder](https://raw.githubusercontent.com/maeste/iis_ai/refs/heads/main/images/6.png)"
      ],
      "metadata": {
        "id": "-RdC3PpIQELo"
      }
    },
    {
      "cell_type": "markdown",
      "source": [
        "# Ora proviamo a giocare un po' con le reti neurali e vedere dove e come conservano l'informazione\n",
        "\n",
        "Prima una cosa semplice....\n",
        "\n",
        "[Analyzing our neural network di 3Blue1Brown](https://www.3blue1brown.com/lessons/neural-network-analysis)\n",
        "\n",
        "----\n",
        "\n",
        "Poi vediamo una rete neurale moderna di classificazione\n",
        "\n",
        "[attention visualization](https://huggingface.co/spaces/webml-community/attention-visualization)"
      ],
      "metadata": {
        "id": "2lGsC74HSCaZ"
      }
    },
    {
      "cell_type": "markdown",
      "source": [
        "# Da qui agli LLM è solo questione di attenzione\n",
        "\n",
        "![Attention is all you need](https://raw.githubusercontent.com/maeste/iis_ai/refs/heads/main/images/7.png)\n",
        "\n",
        "E su questo iniziamo a vedere un video insieme\n",
        "\n",
        "[3Blue1Brown LLM for beginners](https://youtu.be/LPZh9BOjkQs)"
      ],
      "metadata": {
        "id": "jK0ocGz1T8PM"
      }
    },
    {
      "cell_type": "markdown",
      "source": [
        "# Con quali dati si fa un training\n",
        "\n",
        "[datasets](https://huggingface.co/datasets)\n",
        "\n",
        "\n",
        "\n"
      ],
      "metadata": {
        "id": "Dimk9KxOXPnU"
      }
    },
    {
      "cell_type": "markdown",
      "source": [
        "# Ma come fa un LLM a decidere qual'è la prossima parola?\n",
        "\n",
        "![Transformer](https://raw.githubusercontent.com/maeste/iis_ai/refs/heads/main/images/8.png)\n",
        "\n",
        "\n",
        "Come abbiamo visto il lavoro è fatto su i token...ma cosa sono questi token?\n",
        "\n",
        "* Una parola?\n",
        "* Un insieme di parole?\n",
        "* una parte di una parola?\n",
        "\n",
        "[Proviamo...](https://platform.openai.com/tokenizer)\n",
        "\n",
        "I token (ed il loro significato in uncerto senso) sono rappresentati come vettori multidimensionali (tensori). Questa rappresentazione è detto embedding\n",
        "\n",
        "![embeddings](https://raw.githubusercontent.com/maeste/iis_ai/refs/heads/main/images/9.png)\n",
        "\n",
        "La rappresentazione vettoriale permette di fare calcoli\n",
        "\n",
        "![vector aritmetics](https://raw.githubusercontent.com/maeste/iis_ai/refs/heads/main/images/10.png)\n",
        "\n",
        "![vector aritmetics](https://raw.githubusercontent.com/maeste/iis_ai/refs/heads/main/images/11.png)\n",
        "\n",
        "![Vector aritmetics](https://raw.githubusercontent.com/maeste/iis_ai/refs/heads/main/images/12.png)\n",
        "\n",
        "![Direction](https://raw.githubusercontent.com/maeste/iis_ai/refs/heads/main/images/13.png)\n",
        "\n",
        "------\n",
        "\n",
        "## Quindi E(gatto) - E(miao) + E(Bau) = ?\n",
        "\n",
        "------\n",
        "\n",
        "\n",
        "Viene poi definita una unemdding matrix che permette di passare ad un array unidimensionale....ma che ancora non è una distribuzione di probabilità\n",
        "\n",
        "\n",
        "![Unembedding](https://raw.githubusercontent.com/maeste/iis_ai/refs/heads/main/images/14.png)\n",
        "\n",
        "Quindi si applica una funzione di softmax\n",
        "\n",
        "![softmax](https://raw.githubusercontent.com/maeste/iis_ai/refs/heads/main/images/15.png)\n",
        "\n",
        "Ma come dicevamo del cervello umano serve imprevidibilità...se volete chiamatela creatività e alloro si introducono alcune variabli T, top-k, top-p...vediamone solo uno matematicamente\n",
        "\n",
        "![Attention is all you need](https://raw.githubusercontent.com/maeste/iis_ai/refs/heads/main/images/16.png)\n",
        "\n",
        "\n",
        "[a per capire meglio giochiamo con tutte e tre](https://huggingface.co/spaces/genaibook/token_probability_distribution)\n",
        "\n",
        "\n",
        "\n",
        "##Capire come funzionano questo cose ci fa capire come interagire con gli LLM, ovvero come scrivere prompt migliori\n",
        "\n",
        "\n",
        "\n"
      ],
      "metadata": {
        "id": "LUqOMkR5i9Zu"
      }
    },
    {
      "cell_type": "markdown",
      "source": [
        "# Ma cosa possono fare questi LLM\n",
        "\n",
        "Un sacco di cose:\n",
        "\n",
        "[Leggere un grafico](https://huggingface.co/spaces/ahmed-masry/ChartGemma)\n",
        "\n",
        "[Creare una immagine](https://huggingface.co/spaces/multimodalart/stable-diffusion-3.5-large-turboX)\n",
        "\n",
        "[Creare o clonare una voce](https://huggingface.co/spaces/Mobvoi/Offical-Spark-TTS)\n",
        "\n",
        "Fare applicazioni molto evolute.....così evolute da sembrare super poteri (demo di qualche Big LLM)\n",
        "\n",
        "Proviamo ad esplorare un po' huggingface [sapces](https://huggingface.co/spaces) and [spaces of the week](https://huggingface.co/spaces/hysts/spaces-of-the-week)"
      ],
      "metadata": {
        "id": "GrWGACHwoK0J"
      }
    }
  ],
  "metadata": {
    "kernelspec": {
      "display_name": ".venv",
      "language": "python",
      "name": "python3"
    },
    "language_info": {
      "codemirror_mode": {
        "name": "ipython",
        "version": 3
      },
      "file_extension": ".py",
      "mimetype": "text/x-python",
      "name": "python",
      "nbconvert_exporter": "python",
      "pygments_lexer": "ipython3",
      "version": "3.11.11"
    },
    "colab": {
      "provenance": []
    }
  },
  "nbformat": 4,
  "nbformat_minor": 0
}